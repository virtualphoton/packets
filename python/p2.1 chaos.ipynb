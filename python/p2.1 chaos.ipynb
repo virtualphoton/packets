{
 "cells": [
  {
   "cell_type": "code",
   "execution_count": 1,
   "id": "adb040cd-3a7d-42f2-9c45-8fd862290f49",
   "metadata": {},
   "outputs": [],
   "source": [
    "import matplotlib.pyplot as plt\n",
    "import numpy as np"
   ]
  },
  {
   "cell_type": "code",
   "execution_count": 2,
   "id": "196f757a-fa5d-458e-bdd1-da25d0af4893",
   "metadata": {},
   "outputs": [],
   "source": [
    "def foo(r, n=10_000, eps=1e-3):\n",
    "    x = .1\n",
    "    for _ in range(int(1/eps)):\n",
    "        x = r*x*(1-x)\n",
    "    nums = [x]\n",
    "    new_x = x\n",
    "    while abs((new_x := r*new_x*(1-new_x)) - x) > eps and n:\n",
    "        nums.append(new_x)\n",
    "        n -= 1\n",
    "            \n",
    "    return nums"
   ]
  },
  {
   "cell_type": "code",
   "execution_count": 3,
   "id": "25777641-95db-47d1-9431-e1e1782d2e11",
   "metadata": {},
   "outputs": [],
   "source": [
    "def plot():\n",
    "    x = []\n",
    "    y = []\n",
    "    for i in np.arange(.1, 4, .001):\n",
    "        t_y = foo(i, 200, eps=1e-4)\n",
    "        x += [i]*len(t_y)\n",
    "        y += t_y\n",
    "    return x, y"
   ]
  },
  {
   "cell_type": "code",
   "execution_count": 4,
   "id": "14e33e4e-e2aa-4472-bd18-4657549c0f31",
   "metadata": {},
   "outputs": [],
   "source": [
    "_x, _y = plot()"
   ]
  },
  {
   "cell_type": "code",
   "execution_count": 5,
   "id": "d2e4ca51-1c06-4e1c-ae50-ef5d6cc0660a",
   "metadata": {},
   "outputs": [],
   "source": [
    "plt.plot(_x, _y, 'r.', markersize=1)\n",
    "plt.show()"
   ]
  }
 ],
 "metadata": {
  "kernelspec": {
   "display_name": "Python 3.9 (XPython)",
   "language": "python",
   "name": "xpython"
  },
  "language_info": {
   "file_extension": ".py",
   "mimetype": "text/x-python",
   "name": "python",
   "version": "3.9.10"
  }
 },
 "nbformat": 4,
 "nbformat_minor": 5
}
