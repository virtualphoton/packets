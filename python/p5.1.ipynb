{
 "cells": [
  {
   "cell_type": "code",
   "execution_count": 5,
   "id": "f9117250",
   "metadata": {},
   "outputs": [],
   "source": [
    "import numpy as np"
   ]
  },
  {
   "cell_type": "markdown",
   "id": "ab97062b",
   "metadata": {},
   "source": [
    "основные модули:\n",
    "\n",
    "numpy.linalg\n",
    "\n",
    "numpy.random\n",
    "\n",
    "numpy.fft - преобразования Фурье"
   ]
  },
  {
   "cell_type": "markdown",
   "id": "de37ff0e",
   "metadata": {},
   "source": [
    "np.genfromtxt(path) - создать массив из файла (не обязательно .txt)\n",
    "\n",
    "np.savetxt(path, matr) - сохранить"
   ]
  },
  {
   "cell_type": "markdown",
   "id": "47c4f6be",
   "metadata": {},
   "source": [
    "np.where(bool_mask) - индексы, по которым в маске стоит True"
   ]
  },
  {
   "cell_type": "code",
   "execution_count": null,
   "id": "6f392ae4",
   "metadata": {},
   "outputs": [],
   "source": [
    "Джек Лондон - сердца трех"
   ]
  },
  {
   "cell_type": "code",
   "execution_count": 62,
   "id": "79fb5bcb",
   "metadata": {},
   "outputs": [],
   "source": [
    "books = \"\"\"'Мцыри', 'Преступление и наказание', 'Кортик', 'Бородино', 'Молодая гвардия', 'Евгений Онегин', 'Герой нашего времени', 'Идиот', 'Зойкина квартира', 'Демон', 'Собачье Сердце', 'Сборник романов Достоевского', 'Стихотворения Лермонтова', 'Белая гвардия', 'Мастер и Маргарита', 'Лучшие произведения М.Ю. Лермонтова', 'Горячий снег', 'Дикая собака Динго', 'Беглец', 'Стихотворения Пушкина', 'Василий Теркин', 'Выхожу один я на дорогу', 'Война и Мир', 'Анна Каренина', 'Кинжал',         'Севастопольские рассказы', 'Бал', 'Ангел', 'Романы Толстого', 'Князь Серебряный','Сердца Трех','По Ком Звонит Колокол', 'Марк Твен', 'Малыш и Карлсон', 'Великий Гетсби', 'Маугли',         'Мио, Мой Мио', 'На западном фронте без перемен', 'Портрет Дориана Грея', 'Мартин Иден', 'Собор Парижской Богоматери', 'Отверженные', 'Белый Клык', 'Человек, который смеется', 'Детективы Агаты Кристи',         'Фауст', 'Лучшие стихотворения Киплинга', 'Рубаи Омара Хайяма', 'Сонеты Уильяма Шекспира', 'Гомер: Иллиада', 'Гомер: Одиссея', 'Ворон', 'Уильям Блейк',         'Гораций', 'Басё', 'Сборник стихотворений Гёте', 'Шиллер. Избраннные произведения', 'Сайгё', 'Сборник Роберта Бернса', 'Омар Хайям'\"\"\"\n",
    "books = np.array([i.replace(\"'\", '').strip() for i in books.split(\"',\")])"
   ]
  },
  {
   "cell_type": "code",
   "execution_count": 63,
   "id": "156591e8",
   "metadata": {},
   "outputs": [
    {
     "data": {
      "text/plain": [
       "array(['Сердца Трех', 'Малыш и Карлсон', 'Мио, Мой Мио', 'Мартин Иден',\n",
       "       'Белый Клык'], dtype='<U35')"
      ]
     },
     "execution_count": 63,
     "metadata": {},
     "output_type": "execute_result"
    }
   ],
   "source": [
    "books[len(books)//2:len(books)//4*3:3]"
   ]
  }
 ],
 "metadata": {
  "kernelspec": {
   "display_name": "Python 3 (ipykernel)",
   "language": "python",
   "name": "python3"
  },
  "language_info": {
   "codemirror_mode": {
    "name": "ipython",
    "version": 3
   },
   "file_extension": ".py",
   "mimetype": "text/x-python",
   "name": "python",
   "nbconvert_exporter": "python",
   "pygments_lexer": "ipython3",
   "version": "3.9.7"
  }
 },
 "nbformat": 4,
 "nbformat_minor": 5
}
