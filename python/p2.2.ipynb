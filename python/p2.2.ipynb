{
 "cells": [
  {
   "cell_type": "code",
   "execution_count": 1,
   "id": "60aba2c0-5cd0-4b30-bc31-3c0efab3e84d",
   "metadata": {},
   "outputs": [],
   "source": [
    "import re"
   ]
  },
  {
   "cell_type": "code",
   "execution_count": 51,
   "id": "99e3eeff-3181-4e73-b972-b9ef85ea752d",
   "metadata": {},
   "outputs": [],
   "source": [
    "def foo():\n",
    "    while (inp := input().split(maxsplit=1))[0] != '-1':\n",
    "        try:\n",
    "            print(tasks[int(inp[0])](*inp[1:]))\n",
    "        except Exception as e:\n",
    "            print(type(e), e.args)"
   ]
  },
  {
   "cell_type": "code",
   "execution_count": 27,
   "id": "675177a1-7c2c-47d9-8099-e17d85bc3ed8",
   "metadata": {
    "collapsed": true,
    "jupyter": {
     "outputs_hidden": true
    },
    "tags": []
   },
   "outputs": [
    {
     "name": "stdin",
     "output_type": "stream",
     "text": [
      " 4 1 2\n"
     ]
    },
    {
     "name": "stdout",
     "output_type": "stream",
     "text": [
      "2 1\n"
     ]
    },
    {
     "name": "stdin",
     "output_type": "stream",
     "text": [
      " jfdkl\n"
     ]
    },
    {
     "name": "stdout",
     "output_type": "stream",
     "text": [
      "error\n"
     ]
    },
    {
     "name": "stdin",
     "output_type": "stream",
     "text": [
      " 1 fjdkl\n"
     ]
    },
    {
     "name": "stdout",
     "output_type": "stream",
     "text": [
      "lkdjf\n"
     ]
    },
    {
     "name": "stdin",
     "output_type": "stream",
     "text": [
      " 2 fjdkl\"fjdkl\"\n"
     ]
    },
    {
     "name": "stdout",
     "output_type": "stream",
     "text": [
      "fjdkl\n"
     ]
    },
    {
     "name": "stdin",
     "output_type": "stream",
     "text": [
      " 2 fj\"jfgkldsj\"\n"
     ]
    },
    {
     "name": "stdout",
     "output_type": "stream",
     "text": [
      "jfgkldsj\n"
     ]
    },
    {
     "name": "stdin",
     "output_type": "stream",
     "text": [
      " 3 8940\n"
     ]
    },
    {
     "name": "stdout",
     "output_type": "stream",
     "text": [
      "17880\n"
     ]
    },
    {
     "name": "stdin",
     "output_type": "stream",
     "text": [
      " 4 3254543 793423410\n"
     ]
    },
    {
     "name": "stdout",
     "output_type": "stream",
     "text": [
      "793423410 3254543\n"
     ]
    },
    {
     "name": "stdin",
     "output_type": "stream",
     "text": [
      " 5 fjdkl@mal.pl\n"
     ]
    },
    {
     "name": "stdout",
     "output_type": "stream",
     "text": [
      "fjdkl\n"
     ]
    },
    {
     "name": "stdin",
     "output_type": "stream",
     "text": [
      " 6 +7 (812) 134-12-324\n"
     ]
    },
    {
     "name": "stdout",
     "output_type": "stream",
     "text": [
      "+781213412324\n"
     ]
    },
    {
     "name": "stdin",
     "output_type": "stream",
     "text": [
      " 7 saippuakivikauppias\n"
     ]
    },
    {
     "name": "stdout",
     "output_type": "stream",
     "text": [
      "True\n"
     ]
    },
    {
     "name": "stdin",
     "output_type": "stream",
     "text": [
      " 7 fdjlk\n"
     ]
    },
    {
     "name": "stdout",
     "output_type": "stream",
     "text": [
      "False\n"
     ]
    },
    {
     "name": "stdin",
     "output_type": "stream",
     "text": [
      " 7 а роза упала на лапу Азор\n"
     ]
    },
    {
     "name": "stdout",
     "output_type": "stream",
     "text": [
      "False\n"
     ]
    },
    {
     "name": "stdin",
     "output_type": "stream",
     "text": [
      " 7 а роза упала на лапу Азора\n"
     ]
    },
    {
     "name": "stdout",
     "output_type": "stream",
     "text": [
      "True\n"
     ]
    },
    {
     "name": "stdin",
     "output_type": "stream",
     "text": [
      " 8\n"
     ]
    },
    {
     "name": "stdout",
     "output_type": "stream",
     "text": [
      "error\n"
     ]
    },
    {
     "name": "stdin",
     "output_type": "stream",
     "text": [
      " 8 1\n"
     ]
    },
    {
     "name": "stdout",
     "output_type": "stream",
     "text": [
      "error\n"
     ]
    },
    {
     "name": "stdin",
     "output_type": "stream",
     "text": [
      " -1\n"
     ]
    }
   ],
   "source": [
    "foo()"
   ]
  },
  {
   "cell_type": "code",
   "execution_count": 49,
   "id": "3f61a4be-2918-48ee-8672-aec8a7fe6a3b",
   "metadata": {
    "tags": []
   },
   "outputs": [],
   "source": [
    "tasks = {\n",
    "    1: lambda s: s[::-1],\n",
    "    2: lambda s: re.search(r'\\\"(.*)\\\"', s)[1],\n",
    "    3: lambda s: str(int(s)*2),\n",
    "    4: lambda s: ' '.join(s.split()[::-1]),\n",
    "    5: lambda s: re.match(r'(\\w+)@\\w+\\.\\w+', s)[1],\n",
    "    6: lambda s: re.sub(r'[ ()\\-]', '', s),\n",
    "    7: lambda s: (lambda t: t[::-1] == t)(s.replace(' ', '').lower()),\n",
    "    8: lambda: ''.join(map(str, range(1, 124))).replace('9', ''),\n",
    "    9: lambda: [i for i in range(100, 1000) if sum(int(j)**3 for j in str(i)) == i],\n",
    "    10: lambda n: '\\n'.join([f'{i}*{i}={i**2}' for i in range(1, int(n) + 1) if str(i**2).endswith(str(i))]),\n",
    "    11: lambda n=185, until=3: sum(tasks[11](n-i, j+1) for j, i in enumerate((15, 17, 21)[:until]) if n > 21) if n not in (15, 17, 21) else 1,\n",
    "}"
   ]
  }
 ],
 "metadata": {
  "kernelspec": {
   "display_name": "Python 3.9 (XPython)",
   "language": "python",
   "name": "xpython"
  },
  "language_info": {
   "file_extension": ".py",
   "mimetype": "text/x-python",
   "name": "python",
   "version": "3.9.10"
  }
 },
 "nbformat": 4,
 "nbformat_minor": 5
}
