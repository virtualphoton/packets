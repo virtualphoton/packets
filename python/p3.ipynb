{
 "cells": [
  {
   "cell_type": "code",
   "execution_count": 26,
   "id": "fc6a0bd5-0edb-4e01-be46-b14f0060965b",
   "metadata": {},
   "outputs": [],
   "source": [
    "from collections import Counter\n",
    "\n",
    "def main(path):\n",
    "    with open(path, 'r') as f:\n",
    "        data = [l.split()[1:3] for l in f]\n",
    "        print(*(lambda data: sorted(set(s for s, g in data if g == 'male').intersection(set(s for s, g in data if g == 'female')), key=lambda s:(len(s), s)))(data), sep='\\n')\n",
    "        print(*(f'{name} - {num}' for name, num in sorted(Counter(next(zip(*data))).items(), key=lambda t:(-t[1], t[0]))), sep='\\n')\n",
    "        \n"
   ]
  },
  {
   "cell_type": "code",
   "execution_count": 27,
   "id": "60b1af52-6d69-4dde-9b3d-86d641a7d6bf",
   "metadata": {},
   "outputs": [
    {
     "name": "stdout",
     "output_type": "stream",
     "text": [
      "cat\n",
      "alephant\n",
      "alephant - 2\n",
      "cat - 2\n",
      "elephant - 2\n",
      "alien - 1\n",
      "dog - 1\n",
      "giraffe - 1\n"
     ]
    }
   ],
   "source": [
    "main('input.txt')"
   ]
  }
 ],
 "metadata": {
  "kernelspec": {
   "display_name": "Python 3.9 (XPython)",
   "language": "python",
   "name": "xpython"
  },
  "language_info": {
   "file_extension": ".py",
   "mimetype": "text/x-python",
   "name": "python",
   "version": "3.9.10"
  }
 },
 "nbformat": 4,
 "nbformat_minor": 5
}
