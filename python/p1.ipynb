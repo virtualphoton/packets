{
 "cells": [
  {
   "cell_type": "code",
   "execution_count": 11,
   "id": "d0c37a9d-1a76-4c99-9f5e-56f827190f40",
   "metadata": {},
   "outputs": [],
   "source": [
    "import turtle as tt\n",
    "import numpy as np"
   ]
  },
  {
   "cell_type": "code",
   "execution_count": 13,
   "id": "3b11a366-eaad-4556-888c-1d8f79cb7888",
   "metadata": {},
   "outputs": [
    {
     "data": {
      "text/plain": [
       "array([['*', '*', '*', '*', '*', '*', '*'],\n",
       "       ['*', '*', '*', '*', '*', '*', '*'],\n",
       "       ['*', '*', '*', '*', '*', '*', '*'],\n",
       "       ['*', '*', '*', '*', '*', '*', '*'],\n",
       "       ['*', '*', '*', '*', '*', '*', '*'],\n",
       "       ['*', '*', '*', '*', '*', '*', '*'],\n",
       "       ['*', '*', '*', '*', '*', '*', '*']], dtype='<U1')"
      ]
     },
     "execution_count": 13,
     "metadata": {},
     "output_type": "execute_result"
    }
   ],
   "source": [
    "np.full([7]*2, '*')"
   ]
  },
  {
   "cell_type": "code",
   "execution_count": 24,
   "id": "dd26fca9-93e8-474f-a596-46aa0e71a579",
   "metadata": {},
   "outputs": [],
   "source": [
    "def foo():\n",
    "    print((lambda n: ('*'*n+'\\n')*n)(int(input())))"
   ]
  },
  {
   "cell_type": "code",
   "execution_count": 25,
   "id": "0be7f5f4-f4fb-4126-86ff-354d885c4bb4",
   "metadata": {},
   "outputs": [
    {
     "name": "stdin",
     "output_type": "stream",
     "text": [
      " 20\n"
     ]
    },
    {
     "name": "stdout",
     "output_type": "stream",
     "text": [
      "********************\n",
      "********************\n",
      "********************\n",
      "********************\n",
      "********************\n",
      "********************\n",
      "********************\n",
      "********************\n",
      "********************\n",
      "********************\n",
      "********************\n",
      "********************\n",
      "********************\n",
      "********************\n",
      "********************\n",
      "********************\n",
      "********************\n",
      "********************\n",
      "********************\n",
      "********************\n",
      "\n"
     ]
    }
   ],
   "source": [
    "foo()"
   ]
  }
 ],
 "metadata": {
  "kernelspec": {
   "display_name": "Python 3.9 (XPython)",
   "language": "python",
   "name": "xpython"
  },
  "language_info": {
   "file_extension": ".py",
   "mimetype": "text/x-python",
   "name": "python",
   "version": "3.9.10"
  }
 },
 "nbformat": 4,
 "nbformat_minor": 5
}
